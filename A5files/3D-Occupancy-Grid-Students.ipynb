{
 "cells": [
  {
   "cell_type": "markdown",
   "metadata": {},
   "source": [
    "# 3D Occupancy Grid with ibeo Lux Laser Scanner"
   ]
  },
  {
   "cell_type": "markdown",
   "metadata": {},
   "source": [
    "![ibeo Lux](http://www.mechlab.de/wp-content/uploads/2012/02/ibeoLUX.jpg)"
   ]
  },
  {
   "cell_type": "markdown",
   "metadata": {},
   "source": [
    "In this assignment, you will have three tasks to generate a probabilistic occupancy grid from Lidar scanning data.\n",
    "\n",
    "1) Write code to convert data in spherical coordinates to Cartesian coordinates in the function `ibeo2XYZ()`.\n",
    "\n",
    "2) Perform the logodds update for the `grid` global variable in `insertPointcloudBRESENHAM()`.\n",
    "\n",
    "3) Convert the logodds grid to a probablistic occupancy grid.\n",
    "\n",
    "These tasks are marked with TODOs. Additional supplemental information is given throughout the notebook. \n",
    "\n",
    "With your submitted notebook, please also include written answers to the following questions:\n",
    "\n",
    "1) What are the computational advantages of using logodds when generating our occupancy grid?\n",
    "\n",
    "2) Is the angle phi in our Spherical to Cartesian calculation the same as the polar angle in standard Spherical coordinates? Why?"
   ]
  },
  {
   "cell_type": "code",
   "execution_count": 471,
   "metadata": {},
   "outputs": [],
   "source": [
    "import numpy as np\n",
    "import time\n",
    "import pandas as pd"
   ]
  },
  {
   "cell_type": "code",
   "execution_count": 472,
   "metadata": {},
   "outputs": [
    {
     "name": "stdout",
     "output_type": "stream",
     "text": [
      "here\n"
     ]
    }
   ],
   "source": [
    "import matplotlib.pyplot as plt\n",
    "from mpl_toolkits.mplot3d import Axes3D\n",
    "from matplotlib import cm\n",
    "from ipywidgets import interact\n",
    "import ipywidgets\n",
    "import math\n",
    "print(\"here\")\n",
    "%matplotlib inline"
   ]
  },
  {
   "cell_type": "markdown",
   "metadata": {},
   "source": [
    "### Create Empty Grid"
   ]
  },
  {
   "cell_type": "code",
   "execution_count": 473,
   "metadata": {},
   "outputs": [],
   "source": [
    "l = 10.0 # Length (m)\n",
    "b = 10.0  # Width (m)\n",
    "h = 2.0  # Height (m)\n",
    "\n",
    "r = 0.1 # Resolution (m/gridcell)"
   ]
  },
  {
   "cell_type": "markdown",
   "metadata": {},
   "source": [
    "## Generate a LogOdds Grid"
   ]
  },
  {
   "cell_type": "markdown",
   "metadata": {},
   "source": [
    "Why LogOdds? It is numerically stable around $p=0$ and $p=1$, and it reduces the computation to update the Grid (Bayes Rule) to just an addition.\n"
   ]
  },
  {
   "cell_type": "code",
   "execution_count": 474,
   "metadata": {},
   "outputs": [
    {
     "data": {
      "text/plain": [
       "<matplotlib.text.Text at 0x7f2aec758978>"
      ]
     },
     "execution_count": 474,
     "metadata": {},
     "output_type": "execute_result"
    },
    {
     "data": {
      "image/png": "[encoded data removed]",
      "text/plain": [
       "<matplotlib.figure.Figure at 0x7f2aec8d79e8>"
      ]
     },
     "metadata": {
      "needs_background": "light"
     },
     "output_type": "display_data"
    }
   ],
   "source": [
    "p = np.arange(0.01, 1.0, 0.01)\n",
    "lo = np.log(p/(1-p))\n",
    "plt.plot(p, lo)\n",
    "plt.xticks(np.arange(0, 1.1, 0.1))\n",
    "plt.xlabel('Probability $p$')\n",
    "plt.ylabel(r'Log Odds, $\\log(\\frac{p}{1-p})$')"
   ]
  },
  {
   "cell_type": "markdown",
   "metadata": {},
   "source": [
    "So, an initial uncertainty ($p=0.5$) is a zero in LogOdds. That's fine, because it is a very fast initialization of the grid!\n",
    "In order to store log(odds), we need negative values and decimal values.\n"
   ]
  },
  {
   "cell_type": "code",
   "execution_count": 475,
   "metadata": {},
   "outputs": [
    {
     "name": "stdout",
     "output_type": "stream",
     "text": [
      "100x100x20 Grid\n",
      "Stats: 0.00s, 0.76GB\n"
     ]
    }
   ],
   "source": [
    "print(\"{}x{}x{} Grid\".format(int(round(l/r)), int(round(b/r)), int(round(h/r))))\n",
    "startTime = time.time()\n",
    "\n",
    "grid = np.zeros((int(round(l/r)), int(round(b/r)), int(round(h/r))), dtype=np.float32) # Log Odds Grid must be initialized with zeros!\n",
    "\n",
    "print(\"Stats: {:.2f}s, {:.2f}GB\".format(time.time() - startTime, (grid.nbytes/1024.0**2)))"
   ]
  },
  {
   "cell_type": "markdown",
   "metadata": {},
   "source": [
    "### 3D View\n",
    "This helper function will be useful for our 3D plots later."
   ]
  },
  {
   "cell_type": "code",
   "execution_count": 476,
   "metadata": {},
   "outputs": [],
   "source": [
    "def plot3Dgrid(grid, az, el):\n",
    "    # Plot the surface.\n",
    "    plt3d = plt.figure(figsize=(12, 6)).gca(projection='3d', facecolor='w')\n",
    "\n",
    "    # Create x,y mesh.\n",
    "    ll, bb = np.meshgrid(range(grid.shape[1]), range(grid.shape[0]))\n",
    "\n",
    "    for z in range(grid.shape[2]):\n",
    "        if not (np.max(grid[:,:,z])==np.min(grid[:,:,z])): # don't show the untouched level\n",
    "            cp = plt3d.contourf(ll, bb, grid[:,:,z], offset = z, alpha=0.3, cmap=cm.Greens)\n",
    "\n",
    "    cbar = plt.colorbar(cp, shrink=0.7, aspect=20)\n",
    "    cbar.ax.set_ylabel('$P(m|z,x)$')\n",
    "    \n",
    "    plt3d.set_xlabel('X')\n",
    "    plt3d.set_ylabel('Y')\n",
    "    plt3d.set_zlabel('Z')\n",
    "    plt3d.set_xlim3d(0, grid.shape[0])\n",
    "    plt3d.set_ylim3d(0, grid.shape[1])\n",
    "    plt3d.set_zlim3d(0, grid.shape[2])\n",
    "    plt3d.view_init(az, el)\n",
    "    return plt3d"
   ]
  },
  {
   "cell_type": "markdown",
   "metadata": {},
   "source": [
    "## Integrate a measurement with BRESENHAM Algorithm"
   ]
  },
  {
   "cell_type": "markdown",
   "metadata": {},
   "source": [
    "Amanatides, J., & Woo, A. (1987). A fast voxel traversal algorithm for ray tracing. Proceedings of EUROGRAPHICS, i. Retrieved from http://www.cse.yorku.ca/~amana/research/grid.pdf\n",
    "\n",
    "Here is a Python Implementation of BRESENHAM Algorithm: https://gist.github.com/salmonmoose/2760072"
   ]
  },
  {
   "cell_type": "code",
   "execution_count": 477,
   "metadata": {},
   "outputs": [],
   "source": [
    "def bresenham3D(startPoint, endPoint):\n",
    "   # by Anton Fletcher\n",
    "   # Thank you!\n",
    "   path = [] \n",
    "    \n",
    "   startPoint = [int(startPoint[0]),int(startPoint[1]),int(startPoint[2])]\n",
    "   endPoint = [int(endPoint[0]),int(endPoint[1]),int(endPoint[2])]\n",
    " \n",
    "   steepXY = (np.abs(endPoint[1] - startPoint[1]) > np.abs(endPoint[0] - startPoint[0]))\n",
    "   if(steepXY):   \n",
    "      startPoint[0], startPoint[1] = startPoint[1], startPoint[0]\n",
    "      endPoint[0], endPoint[1] = endPoint[1], endPoint[0]\n",
    " \n",
    "   steepXZ = (np.abs(endPoint[2] - startPoint[2]) > np.abs(endPoint[0] - startPoint[0]))\n",
    "   if(steepXZ):\n",
    "      startPoint[0], startPoint[2] = startPoint[2], startPoint[0]\n",
    "      endPoint[0], endPoint[2] = endPoint[2], endPoint[0]\n",
    " \n",
    "   delta = [np.abs(endPoint[0] - startPoint[0]), np.abs(endPoint[1] - startPoint[1]), np.abs(endPoint[2] - startPoint[2])]\n",
    "\n",
    "   errorXY = delta[0] / 2\n",
    "   errorXZ = delta[0] / 2\n",
    " \n",
    "   step = [\n",
    "      -1 if startPoint[0] > endPoint[0] else 1,\n",
    "      -1 if startPoint[1] > endPoint[1] else 1,\n",
    "      -1 if startPoint[2] > endPoint[2] else 1\n",
    "   ]\n",
    " \n",
    "   y = startPoint[1]\n",
    "   z = startPoint[2]\n",
    " \n",
    "   for x in range(startPoint[0], endPoint[0], step[0]):\n",
    "      point = [x, y, z]\n",
    " \n",
    "      if(steepXZ):\n",
    "          point[0], point[2] = point[2], point[0]\n",
    "      if(steepXY):\n",
    "          point[0], point[1] = point[1], point[0]\n",
    "\n",
    " \n",
    "      errorXY -= delta[1]\n",
    "      errorXZ -= delta[2]\n",
    " \n",
    "      if(errorXY < 0):\n",
    "          y += step[1]\n",
    "          errorXY += delta[0]\n",
    " \n",
    "      if(errorXZ < 0):\n",
    "          z += step[2]\n",
    "          errorXZ += delta[0]\n",
    "\n",
    "      path.append(point)\n",
    "\n",
    "   return path"
   ]
  },
  {
   "cell_type": "code",
   "execution_count": 478,
   "metadata": {},
   "outputs": [],
   "source": [
    "import string\n",
    "letters = string.ascii_lowercase"
   ]
  },
  {
   "cell_type": "code",
   "execution_count": 479,
   "metadata": {},
   "outputs": [
    {
     "data": {
      "image/png": "[encoded data removed]",
      "text/plain": [
       "<matplotlib.figure.Figure at 0x7f2aec95e6a0>"
      ]
     },
     "metadata": {
      "needs_background": "light"
     },
     "output_type": "display_data"
    }
   ],
   "source": [
    "goal = (5.5, 3.5, 0.0)\n",
    "\n",
    "plt.figure(figsize=(5.0,3.6))\n",
    "plt.scatter(goal[0], goal[1], s=50, c='r')\n",
    "plt.plot((0, goal[0]), (0, goal[1]), c='k', alpha=0.5)\n",
    "plt.axis('equal');\n",
    "plt.xlim(0, 6)\n",
    "plt.ylim(0, 4)\n",
    "plt.xlabel('X')\n",
    "plt.ylabel('Y')\n",
    "\n",
    "# Annotations\n",
    "cells = bresenham3D((0,0,0), (goal[0], goal[1], 0.0))\n",
    "\n",
    "for i, cell in enumerate(cells):\n",
    "    plt.text(cell[0]+0.5, cell[1]+0.5, letters[i], ha='center', va='center')\n",
    "\n",
    "plt.savefig('BRESENHAM-Raycasting.png', dpi=150)"
   ]
  },
  {
   "cell_type": "markdown",
   "metadata": {},
   "source": [
    "Does not hit all traversed grid cells"
   ]
  },
  {
   "cell_type": "markdown",
   "metadata": {},
   "source": [
    "### Sensor Position and Orientation"
   ]
  },
  {
   "cell_type": "markdown",
   "metadata": {},
   "source": [
    "For rotation and translation in homogeneous coordinates, everything can be done via Matrix multiplication.\n",
    "\n",
    "$$\\left[\\begin{matrix}x \\\\ y \\\\ z \\\\ 1\\end{matrix}\\right]_\\text{Endpoint} = \\left[\\begin{matrix} R_{3x3} & t_{3x1} \\\\ 0 & 1\\end{matrix}\\right] \\cdot \\left[\\begin{matrix}x \\\\ y \\\\ z \\\\ 1\\end{matrix}\\right]_\\text{Measurement}$$\n",
    "\n",
    "where $R$ is the rotation matrix and $t$ is the displacement vector."
   ]
  },
  {
   "cell_type": "code",
   "execution_count": 480,
   "metadata": {},
   "outputs": [],
   "source": [
    "def Rypr(y, p, r):\n",
    "    '''\n",
    "    Rotation matrix for y=yaw, p=pitch, r=roll, in degrees\n",
    "    '''\n",
    "    # from Degree to Radians\n",
    "    y = y*np.pi/180.0\n",
    "    p = p*np.pi/180.0\n",
    "    r = r*np.pi/180.0\n",
    "    \n",
    "    Rr = np.matrix([[1.0, 0.0, 0.0],[0.0, np.cos(r), -np.sin(r)],[0.0, np.sin(r), np.cos(r)]])\n",
    "    Rp = np.matrix([[np.cos(p), 0.0, np.sin(p)],[0.0, 1.0, 0.0],[-np.sin(p), 0.0, np.cos(p)]])\n",
    "    Ry = np.matrix([[np.cos(y), -np.sin(y), 0.0],[np.sin(y), np.cos(y), 0.0],[0.0, 0.0, 1.0]])\n",
    "    \n",
    "    return Ry*Rp*Rr"
   ]
  },
  {
   "cell_type": "code",
   "execution_count": 481,
   "metadata": {},
   "outputs": [],
   "source": [
    "def ibeo2XYZ(theta, dist, layer, R, t):\n",
    "    '''\n",
    "    Computes the Cartesian x, y, and z coordinates from the polar coordinates of the IBEO Lux laser scanner.\n",
    "   \n",
    "    Input:\n",
    "        - theta: horizontal angle\n",
    "        - dist : polar distance\n",
    "        - layer: level\n",
    "        - R    : Euler rotation matrix (rotation of laser scanner)\n",
    "        - t    : displacement vector (position of Laserscanner)\n",
    "    '''\n",
    "    if not R.shape == (3,3):\n",
    "        raise ValueError('Rotation matrix must be 3x3.')\n",
    "    if not t.shape == (3,1):\n",
    "        raise ValueError('Displacement vector must be 3x1: [X],[Y],[Z].')\n",
    "    \n",
    "    \n",
    "    # Ibeo Lux has a 3.2° aperture angle and 4 vertical levels.\n",
    "    aperture_angle = 3.2\n",
    "    levels = 4\n",
    "    \n",
    "    # Calculate the angle of incidence of the current layer's point to the ground plane.\n",
    "    # Input layer varies from 0 to 3, and the aperture layers are centered at the horizontal.\n",
    "    phi = (layer * aperture_angle/(levels-1) - aperture_angle/2.0) * np.pi/180.0\n",
    "    \n",
    "    # TODO ###################################################################################\n",
    "    # Compute the cartesian coordinates from the radius dist, horizontal angle theta, and the\n",
    "    # vertical angle phi. Note that phi is the angle from the ground plane to the ray, not from\n",
    "    # the ray to the vertical axis!\n",
    "\n",
    "    X = []\n",
    "    Y = []\n",
    "    Z = []\n",
    "    \n",
    "    for i in range(theta.size):\n",
    "        conv_phi = (math.pi / 2) - phi[i] # convert to the angle from the vertrical axis !\n",
    "        X.append( dist[i]* math.sin(conv_phi) * math.cos(theta[i]) )\n",
    "        Y.append( dist[i]* math.sin(conv_phi) * math.sin(theta[i]) )\n",
    "        Z.append( dist[i]* math.cos(conv_phi) )   \n",
    "    # Start with the identity matrix.\n",
    "    RSensor = np.eye(4)\n",
    "\n",
    "    # Rotation portion.\n",
    "    RSensor[np.ix_([0,1,2],[0,1,2])] = R\n",
    "\n",
    "    # Translation portion.\n",
    "    RSensor[np.ix_([0,1,2],[3])] = t\n",
    "    \n",
    "    Pointcloud = np.array((X,Y,Z,np.ones(np.size(X))))\n",
    "\n",
    "    # Homogeneous multiplication of points for rotation + translation.\n",
    "    [xe,ye,ze,w] = np.dot(RSensor, Pointcloud)\n",
    "    print(\"here\")\n",
    "    return np.array([xe, ye, ze])"
   ]
  },
  {
   "cell_type": "markdown",
   "metadata": {},
   "source": [
    "### Load some Ibeo Lux Measurements"
   ]
  },
  {
   "cell_type": "code",
   "execution_count": 482,
   "metadata": {},
   "outputs": [],
   "source": [
    "# Load Real World Ibeo Lux Measurements.\n",
    "data = pd.read_csv('Measurements.txt', delimiter='|')"
   ]
  },
  {
   "cell_type": "code",
   "execution_count": 483,
   "metadata": {},
   "outputs": [
    {
     "data": {
      "text/html": [
       "<div>\n",
       "<style scoped>\n",
       "    .dataframe tbody tr th:only-of-type {\n",
       "        vertical-align: middle;\n",
       "    }\n",
       "\n",
       "    .dataframe tbody tr th {\n",
       "        vertical-align: top;\n",
       "    }\n",
       "\n",
       "    .dataframe thead th {\n",
       "        text-align: right;\n",
       "    }\n",
       "</style>\n",
       "<table border=\"1\" class=\"dataframe\">\n",
       "  <thead>\n",
       "    <tr style=\"text-align: right;\">\n",
       "      <th></th>\n",
       "      <th># &lt;Timestamp&gt;</th>\n",
       "      <th>&lt;Level&gt;</th>\n",
       "      <th>&lt;Echo&gt;</th>\n",
       "      <th>&lt;Angle&gt;</th>\n",
       "      <th>&lt;Radius&gt;</th>\n",
       "      <th>&lt;Xvalue&gt;</th>\n",
       "      <th>&lt;Yvalue&gt;</th>\n",
       "      <th>&lt;EchoPulseWidth&gt;</th>\n",
       "      <th>&lt;Scanflags&gt;</th>\n",
       "    </tr>\n",
       "  </thead>\n",
       "  <tbody>\n",
       "    <tr>\n",
       "      <th>0</th>\n",
       "      <td>1341907053031</td>\n",
       "      <td>0</td>\n",
       "      <td>0</td>\n",
       "      <td>0.872665</td>\n",
       "      <td>1024</td>\n",
       "      <td>658</td>\n",
       "      <td>784</td>\n",
       "      <td>108</td>\n",
       "      <td>4</td>\n",
       "    </tr>\n",
       "    <tr>\n",
       "      <th>1</th>\n",
       "      <td>1341907053031</td>\n",
       "      <td>0</td>\n",
       "      <td>0</td>\n",
       "      <td>0.855211</td>\n",
       "      <td>999</td>\n",
       "      <td>655</td>\n",
       "      <td>753</td>\n",
       "      <td>172</td>\n",
       "      <td>4</td>\n",
       "    </tr>\n",
       "    <tr>\n",
       "      <th>2</th>\n",
       "      <td>1341907053031</td>\n",
       "      <td>1</td>\n",
       "      <td>0</td>\n",
       "      <td>0.855211</td>\n",
       "      <td>872</td>\n",
       "      <td>572</td>\n",
       "      <td>658</td>\n",
       "      <td>108</td>\n",
       "      <td>3</td>\n",
       "    </tr>\n",
       "    <tr>\n",
       "      <th>3</th>\n",
       "      <td>1341907053031</td>\n",
       "      <td>1</td>\n",
       "      <td>1</td>\n",
       "      <td>0.855211</td>\n",
       "      <td>1061</td>\n",
       "      <td>696</td>\n",
       "      <td>800</td>\n",
       "      <td>176</td>\n",
       "      <td>4</td>\n",
       "    </tr>\n",
       "    <tr>\n",
       "      <th>4</th>\n",
       "      <td>1341907053031</td>\n",
       "      <td>0</td>\n",
       "      <td>0</td>\n",
       "      <td>0.846485</td>\n",
       "      <td>979</td>\n",
       "      <td>648</td>\n",
       "      <td>733</td>\n",
       "      <td>148</td>\n",
       "      <td>20</td>\n",
       "    </tr>\n",
       "  </tbody>\n",
       "</table>\n",
       "</div>"
      ],
      "text/plain": [
       "   # <Timestamp>  <Level>  <Echo>   <Angle>  <Radius>  <Xvalue>  <Yvalue>  \\\n",
       "0  1341907053031        0       0  0.872665      1024       658       784   \n",
       "1  1341907053031        0       0  0.855211       999       655       753   \n",
       "2  1341907053031        1       0  0.855211       872       572       658   \n",
       "3  1341907053031        1       1  0.855211      1061       696       800   \n",
       "4  1341907053031        0       0  0.846485       979       648       733   \n",
       "\n",
       "   <EchoPulseWidth>  <Scanflags>  \n",
       "0               108            4  \n",
       "1               172            4  \n",
       "2               108            3  \n",
       "3               176            4  \n",
       "4               148           20  "
      ]
     },
     "execution_count": 483,
     "metadata": {},
     "output_type": "execute_result"
    }
   ],
   "source": [
    "data.head(5)"
   ]
  },
  {
   "cell_type": "markdown",
   "metadata": {},
   "source": [
    "#### Filter out an arbitrary measurement and bounded angle"
   ]
  },
  {
   "cell_type": "code",
   "execution_count": 484,
   "metadata": {},
   "outputs": [],
   "source": [
    "timestamp = 1341907053031\n",
    "f = (data['# <Timestamp>']==timestamp) & (data['<Angle>']<0.5) & (data['<Angle>']>-0.5)\n",
    "\n",
    "angles = data['<Angle>'][f]\n",
    "distance = data['<Radius>'][f]/100.0\n",
    "layer = data['<Level>'][f]"
   ]
  },
  {
   "cell_type": "code",
   "execution_count": 485,
   "metadata": {},
   "outputs": [],
   "source": [
    "yaw   = 0.0 #  Yaw in Degrees\n",
    "pitch = 0.0 #  Pitch in Degrees\n",
    "roll  = 0.0 #  Roll in Degrees\n",
    "dx= 0.0 #  Delta X (m)\n",
    "dy= 5.0 #  Delta Y (m)\n",
    "dz= 1.0 #  Delta Z (m)"
   ]
  },
  {
   "cell_type": "code",
   "execution_count": 486,
   "metadata": {},
   "outputs": [
    {
     "name": "stdout",
     "output_type": "stream",
     "text": [
      "here\n"
     ]
    }
   ],
   "source": [
    "# Convert from spherical coordinates to Cartesian.\n",
    "R = Rypr(yaw, pitch, roll)\n",
    "t = np.array([[dx], [dy], [dz]]) \n",
    "[xe, ye, ze] = ibeo2XYZ(angles.values, distance.values, layer.values, R, t)"
   ]
  },
  {
   "cell_type": "code",
   "execution_count": 487,
   "metadata": {},
   "outputs": [
    {
     "data": {
      "text/plain": [
       "<matplotlib.text.Text at 0x7f2aec48b128>"
      ]
     },
     "execution_count": 487,
     "metadata": {},
     "output_type": "execute_result"
    },
    {
     "data": {
      "image/png": "[encoded data removed]",
      "text/plain": [
       "<matplotlib.figure.Figure at 0x7f2aec59f6d8>"
      ]
     },
     "metadata": {
      "needs_background": "light"
     },
     "output_type": "display_data"
    }
   ],
   "source": [
    "# Plot the location of the scanner (black), and the pointcloud (red).\n",
    "plt3d = plt.figure(figsize=(12, 6)).gca(projection='3d', facecolor='w')\n",
    "plt3d.scatter(xe, ye, ze, c='r', label='Laserscanner Pointcloud')\n",
    "plt3d.scatter(t[0], t[1], t[2], c='k', s=200, label='ibeo Lux')\n",
    "plt3d.view_init(45, -115)\n",
    "plt3d.axis('equal')\n",
    "plt3d.set_xlabel('X')\n",
    "plt3d.set_ylabel('Y')"
   ]
  },
  {
   "cell_type": "markdown",
   "metadata": {},
   "source": [
    "## Function which integrates the Measurement via Inverse Sensor Model"
   ]
  },
  {
   "cell_type": "markdown",
   "metadata": {},
   "source": [
    "Values for hit and miss probabilities are taken from Hornung, A., Wurm, K. M., Bennewitz, M., Stachniss, C., & Burgard, W. (2013). OctoMap: an efficient probabilistic 3D mapping framework based on octrees. Autonomous Robots, 34(3), 189–206. doi:10.1007/s10514-012-9321-0"
   ]
  },
  {
   "cell_type": "code",
   "execution_count": 488,
   "metadata": {},
   "outputs": [],
   "source": [
    "# in LogOdds Notation!\n",
    "loccupied = 0.85\n",
    "lfree = -0.4\n",
    "\n",
    "lmin = -2.0\n",
    "lmax = 3.5"
   ]
  },
  {
   "cell_type": "code",
   "execution_count": 522,
   "metadata": {},
   "outputs": [],
   "source": [
    "def insertPointcloudBRESENHAM(tSensor, xe,ye,ze):    \n",
    "#     print(xe)\n",
    "    for i,val in enumerate(xe): \n",
    "        # print(\"HERE\")\n",
    "        # Insert Endpoints.\n",
    "        y=int(xe[i])\n",
    "        x=int(ye[i]) # Coordinate switch between X & Y!\n",
    "        z=int(ze[i])\n",
    "        # print(x,y,z)\n",
    "        # Inverse Sensor Model.\n",
    "        # TODO ###############################################################################\n",
    "        # This point is occupied by an object. Increment its logodds in the grid by loccupied.\n",
    "        # Be sure to clamp to the maximum logodds value, lmax.\n",
    "        # print(\"HERE 2\")\n",
    "#         print(grid )\n",
    "        \n",
    "        if(grid[x,y,z]):\n",
    "            newVal =  grid[x,y,z] + loccupied\n",
    "        else:\n",
    "            newVal = loccupied\n",
    "        \n",
    "        # print(\"HERE 3\")\n",
    "#       \n",
    "#         print(\"grid[x,y,z] , newVal \", grid[x,y,z] , newVal)\n",
    "        grid[x,y,z] = min(newVal, lmax)\n",
    "#         print(\"grid[x,y,z]\", grid[x,y,z])\n",
    "\n",
    "        # TODO ###############################################################################\n",
    "        # These grid cells are along the ray of the scanner. Because of this, they are unlikely to \n",
    "        # be occupied. Reduce their logodds using lfree.\n",
    "        for (y,x,z) in bresenham3D(tSensor, (xe[i], ye[i], ze[i])): # Coordinate switch between X & Y!\n",
    "            newVal =  grid[x,y,z] - lfree\n",
    "#             print(\"grid[x,y,z] , newVal \", grid[x,y,z] , newVal)\n",
    "            grid[x,y,z] = max(newVal, lmin)\n",
    "#             print(\"grid[x,y,z]\", grid[x,y,z])\n",
    "   "
   ]
  },
  {
   "cell_type": "markdown",
   "metadata": {},
   "source": [
    "### Sensor Origin"
   ]
  },
  {
   "cell_type": "code",
   "execution_count": 523,
   "metadata": {},
   "outputs": [
    {
     "data": {
      "text/plain": [
       "array([[  0.],\n",
       "       [ 50.],\n",
       "       [ 10.]])"
      ]
     },
     "execution_count": 523,
     "metadata": {},
     "output_type": "execute_result"
    }
   ],
   "source": [
    "tSensor = t/r  # Translation (shift from 0,0,0) in Grid Cell Numbers\n",
    "tSensor"
   ]
  },
  {
   "cell_type": "code",
   "execution_count": 524,
   "metadata": {},
   "outputs": [
    {
     "name": "stdout",
     "output_type": "stream",
     "text": [
      "HERE\n",
      "48 -2 92\n",
      "HERE 2\n",
      "Error while inserting the measurement. Is the grid too small?\n",
      "HERE\n",
      "48 -2 92\n",
      "HERE 2\n",
      "Error while inserting the measurement. Is the grid too small?\n",
      "HERE\n",
      "48 -2 92\n",
      "HERE 2\n",
      "Error while inserting the measurement. Is the grid too small?\n",
      "HERE\n",
      "48 -2 92\n",
      "HERE 2\n",
      "Error while inserting the measurement. Is the grid too small?\n",
      "HERE\n",
      "48 -2 92\n",
      "HERE 2\n",
      "Error while inserting the measurement. Is the grid too small?\n"
     ]
    }
   ],
   "source": [
    "# integrate the measurement 5 times\n",
    "for m in range(5):\n",
    "    try:\n",
    "#         print(tSensor, xe/r,ye/r,ze/r)\n",
    "        insertPointcloudBRESENHAM(tSensor, xe/r,ye/r,ze/r)\n",
    "    except:\n",
    "        print('Error while inserting the measurement. Is the grid too small?')"
   ]
  },
  {
   "cell_type": "code",
   "execution_count": 492,
   "metadata": {},
   "outputs": [
    {
     "data": {
      "image/png": "[encoded data removed]",
      "text/plain": [
       "<matplotlib.figure.Figure at 0x7f2aec833160>"
      ]
     },
     "metadata": {
      "needs_background": "light"
     },
     "output_type": "display_data"
    }
   ],
   "source": [
    "@interact\n",
    "def plotmultivargauss(z = ipywidgets.IntSlider(min=0, max=np.max(grid.shape[2])-1, step=1, value=10, description=\"\")):\n",
    "    plt.figure(figsize=(int(round(l/2)), int(round(b/2))))\n",
    "    plt.contourf(grid[:,:,z], cmap=cm.Greens)\n",
    "    plt.axis('equal')\n",
    "    plt.xlabel('X')\n",
    "    plt.ylabel('Y')"
   ]
  },
  {
   "cell_type": "markdown",
   "metadata": {},
   "source": [
    "### 3D Plot\n",
    "Here we perform the full 3D plot."
   ]
  },
  {
   "cell_type": "code",
   "execution_count": 493,
   "metadata": {},
   "outputs": [
    {
     "ename": "UnboundLocalError",
     "evalue": "local variable 'cp' referenced before assignment",
     "output_type": "error",
     "traceback": [
      "\u001b[0;31m---------------------------------------------------------------------------\u001b[0m",
      "\u001b[0;31mUnboundLocalError\u001b[0m                         Traceback (most recent call last)",
      "\u001b[0;32m<ipython-input-493-e2c61a71b9ca>\u001b[0m in \u001b[0;36mplotmultivargauss\u001b[0;34m(az, el)\u001b[0m\n\u001b[1;32m      3\u001b[0m                       el = ipywidgets.IntSlider(min=-180.0, max=180.0, step=1.0, value=-115.0, description=\"\")):\n\u001b[1;32m      4\u001b[0m \u001b[0;34m\u001b[0m\u001b[0m\n\u001b[0;32m----> 5\u001b[0;31m     \u001b[0mplot3Dgrid\u001b[0m\u001b[0;34m(\u001b[0m\u001b[0mgrid\u001b[0m\u001b[0;34m,\u001b[0m \u001b[0maz\u001b[0m\u001b[0;34m,\u001b[0m \u001b[0mel\u001b[0m\u001b[0;34m)\u001b[0m\u001b[0;34m\u001b[0m\u001b[0m\n\u001b[0m",
      "\u001b[0;32m<ipython-input-476-399eae31893a>\u001b[0m in \u001b[0;36mplot3Dgrid\u001b[0;34m(grid, az, el)\u001b[0m\n\u001b[1;32m     10\u001b[0m             \u001b[0mcp\u001b[0m \u001b[0;34m=\u001b[0m \u001b[0mplt3d\u001b[0m\u001b[0;34m.\u001b[0m\u001b[0mcontourf\u001b[0m\u001b[0;34m(\u001b[0m\u001b[0mll\u001b[0m\u001b[0;34m,\u001b[0m \u001b[0mbb\u001b[0m\u001b[0;34m,\u001b[0m \u001b[0mgrid\u001b[0m\u001b[0;34m[\u001b[0m\u001b[0;34m:\u001b[0m\u001b[0;34m,\u001b[0m\u001b[0;34m:\u001b[0m\u001b[0;34m,\u001b[0m\u001b[0mz\u001b[0m\u001b[0;34m]\u001b[0m\u001b[0;34m,\u001b[0m \u001b[0moffset\u001b[0m \u001b[0;34m=\u001b[0m \u001b[0mz\u001b[0m\u001b[0;34m,\u001b[0m \u001b[0malpha\u001b[0m\u001b[0;34m=\u001b[0m\u001b[0;36m0.3\u001b[0m\u001b[0;34m,\u001b[0m \u001b[0mcmap\u001b[0m\u001b[0;34m=\u001b[0m\u001b[0mcm\u001b[0m\u001b[0;34m.\u001b[0m\u001b[0mGreens\u001b[0m\u001b[0;34m)\u001b[0m\u001b[0;34m\u001b[0m\u001b[0m\n\u001b[1;32m     11\u001b[0m \u001b[0;34m\u001b[0m\u001b[0m\n\u001b[0;32m---> 12\u001b[0;31m     \u001b[0mcbar\u001b[0m \u001b[0;34m=\u001b[0m \u001b[0mplt\u001b[0m\u001b[0;34m.\u001b[0m\u001b[0mcolorbar\u001b[0m\u001b[0;34m(\u001b[0m\u001b[0mcp\u001b[0m\u001b[0;34m,\u001b[0m \u001b[0mshrink\u001b[0m\u001b[0;34m=\u001b[0m\u001b[0;36m0.7\u001b[0m\u001b[0;34m,\u001b[0m \u001b[0maspect\u001b[0m\u001b[0;34m=\u001b[0m\u001b[0;36m20\u001b[0m\u001b[0;34m)\u001b[0m\u001b[0;34m\u001b[0m\u001b[0m\n\u001b[0m\u001b[1;32m     13\u001b[0m     \u001b[0mcbar\u001b[0m\u001b[0;34m.\u001b[0m\u001b[0max\u001b[0m\u001b[0;34m.\u001b[0m\u001b[0mset_ylabel\u001b[0m\u001b[0;34m(\u001b[0m\u001b[0;34m'$P(m|z,x)$'\u001b[0m\u001b[0;34m)\u001b[0m\u001b[0;34m\u001b[0m\u001b[0m\n\u001b[1;32m     14\u001b[0m \u001b[0;34m\u001b[0m\u001b[0m\n",
      "\u001b[0;31mUnboundLocalError\u001b[0m: local variable 'cp' referenced before assignment"
     ]
    },
    {
     "data": {
      "image/png": "[encoded data removed]",
      "text/plain": [
       "<matplotlib.figure.Figure at 0x7f2aec44f6a0>"
      ]
     },
     "metadata": {
      "needs_background": "light"
     },
     "output_type": "display_data"
    }
   ],
   "source": [
    "@interact\n",
    "def plotmultivargauss(az = ipywidgets.IntSlider(min=-90.0, max=90.0, step=1.0, value=45.0, description=\"\"), \\\n",
    "                      el = ipywidgets.IntSlider(min=-180.0, max=180.0, step=1.0, value=-115.0, description=\"\")):\n",
    "\n",
    "    plot3Dgrid(grid, az, el)"
   ]
  },
  {
   "cell_type": "code",
   "execution_count": 494,
   "metadata": {},
   "outputs": [
    {
     "name": "stdout",
     "output_type": "stream",
     "text": [
      "Max Grid Value (Log Odds): 0.00\n",
      "Min Grid Value (Log Odds): 0.00\n"
     ]
    }
   ],
   "source": [
    "print('Max Grid Value (Log Odds): %.2f' % np.max(grid))\n",
    "print('Min Grid Value (Log Odds): %.2f' % np.min(grid))"
   ]
  },
  {
   "cell_type": "markdown",
   "metadata": {},
   "source": [
    "## From LogOdds Occupancy Grid to Probability Grid"
   ]
  },
  {
   "cell_type": "markdown",
   "metadata": {},
   "source": [
    "The conversion from LogOdds notation to probabilities could be achieved by following formula:\n",
    "\n",
    "$$P(l) = 1-\\cfrac{1}{1+e^{lo}}$$ with $lo$=LogOdds Value"
   ]
  },
  {
   "cell_type": "code",
   "execution_count": 495,
   "metadata": {},
   "outputs": [],
   "source": [
    "# TODO ####################################################################\n",
    "# Convert the logodds grid to a probabilisitic occupancy grid, using the formula above.\n",
    "gridP = 1 - ( 1 / (1 + pow(math.e, lo ) ) )"
   ]
  },
  {
   "cell_type": "code",
   "execution_count": 496,
   "metadata": {},
   "outputs": [
    {
     "ename": "NameError",
     "evalue": "name 'gridP' is not defined",
     "output_type": "error",
     "traceback": [
      "\u001b[0;31m---------------------------------------------------------------------------\u001b[0m",
      "\u001b[0;31mNameError\u001b[0m                                 Traceback (most recent call last)",
      "\u001b[0;32m<ipython-input-496-83b71b4ab673>\u001b[0m in \u001b[0;36m<module>\u001b[0;34m\u001b[0m\n\u001b[0;32m----> 1\u001b[0;31m \u001b[0mplot3Dgrid\u001b[0m\u001b[0;34m(\u001b[0m\u001b[0mgridP\u001b[0m\u001b[0;34m,\u001b[0m \u001b[0;36m45\u001b[0m\u001b[0;34m,\u001b[0m \u001b[0;34m-\u001b[0m\u001b[0;36m115\u001b[0m\u001b[0;34m)\u001b[0m\u001b[0;34m\u001b[0m\u001b[0m\n\u001b[0m\u001b[1;32m      2\u001b[0m \u001b[0mplt\u001b[0m\u001b[0;34m.\u001b[0m\u001b[0msavefig\u001b[0m\u001b[0;34m(\u001b[0m\u001b[0;34m'3D-Occupancy-Grid.png'\u001b[0m\u001b[0;34m)\u001b[0m\u001b[0;34m\u001b[0m\u001b[0m\n",
      "\u001b[0;31mNameError\u001b[0m: name 'gridP' is not defined"
     ]
    }
   ],
   "source": [
    "plot3Dgrid(gridP, 45, -115)\n",
    "plt.savefig('3D-Occupancy-Grid.png')"
   ]
  },
  {
   "cell_type": "code",
   "execution_count": null,
   "metadata": {},
   "outputs": [],
   "source": [
    "print('Max Grid Value (Probability): %.2f' % np.max(gridP))\n",
    "print('Min Grid Value (Probability): %.2f' % np.min(gridP))"
   ]
  },
  {
   "cell_type": "markdown",
   "metadata": {},
   "source": [
    "## Convolve the Map for Path Planning\n",
    "We convolve our 3D map with a Gaussian filter to output a smooth occupancy grid for motion planning."
   ]
  },
  {
   "cell_type": "code",
   "execution_count": null,
   "metadata": {},
   "outputs": [],
   "source": [
    "from scipy.ndimage import gaussian_filter"
   ]
  },
  {
   "cell_type": "code",
   "execution_count": null,
   "metadata": {},
   "outputs": [],
   "source": [
    "blurmap = gaussian_filter(gridP, 0.4)"
   ]
  },
  {
   "cell_type": "code",
   "execution_count": null,
   "metadata": {},
   "outputs": [],
   "source": [
    "plot3Dgrid(blurmap, 45, -115)"
   ]
  },
  {
   "cell_type": "code",
   "execution_count": null,
   "metadata": {},
   "outputs": [],
   "source": [
    "print('Max Grid Value (Probability): %.2f' % np.max(blurmap))\n",
    "print('Min Grid Value (Probability): %.2f' % np.min(blurmap))"
   ]
  }
 ],
 "metadata": {
  "kernelspec": {
   "display_name": "Python 3",
   "language": "python",
   "name": "python3"
  },
  "language_info": {
   "codemirror_mode": {
    "name": "ipython",
    "version": 3
   },
   "file_extension": ".py",
   "mimetype": "text/x-python",
   "name": "python",
   "nbconvert_exporter": "python",
   "pygments_lexer": "ipython3",
   "version": "3.5.2"
  },
  "widgets": {
   "state": {
    "015040061c6f4a36925a5f16047751ef": {
     "views": []
    },
    "02f08a8546fa4731955702125d0fa3b4": {
     "views": []
    },
    "037a6e71a9744c419f4aa73ff4745776": {
     "views": []
    },
    "042edb846d9a468da4adfb019c6eb123": {
     "views": []
    },
    "06f2cdbb71024b428556eb528b8ccd82": {
     "views": []
    },
    "07c27533b43c4f8297381ed6165410cc": {
     "views": []
    },
    "0845e397af3948cc9881b626abe4642e": {
     "views": []
    },
    "093decd0a4894ee6a60f6f5d5b22c8be": {
     "views": []
    },
    "09acfa43853a400db6ae4a8044cf2734": {
     "views": []
    },
    "0a288ecd5d5f4a9f951b4a88cba968de": {
     "views": []
    },
    "0b37e0928be64bbb88a643a39213496f": {
     "views": []
    },
    "0b615814de9e4c9d8e65d4a8d5c1c7a4": {
     "views": []
    },
    "0edeb49fa65a42c99c9a546d02744d2a": {
     "views": []
    },
    "1062421f11b241bc95ecbcff0f87b9fb": {
     "views": []
    },
    "113a4701eb4e431c93d3af9ba483ddf6": {
     "views": []
    },
    "1478a8fb98504d16b28d13c54f0fc1ef": {
     "views": []
    },
    "158b7f1a7d9140d9b100139e6a2aa723": {
     "views": []
    },
    "16ab9ae590de4c049d72d25cc3212363": {
     "views": []
    },
    "195d6c22cd6449bca1666585a4b92c1f": {
     "views": []
    },
    "1a0e26281fbd47519f593de8198c3bd8": {
     "views": []
    },
    "1b1e9d7042744191ac2fbe28b951b06e": {
     "views": []
    },
    "1c127d1c484d4a60a5abfe18c893a560": {
     "views": []
    },
    "1ce0ea521585481d8f4ceb3a061e34d2": {
     "views": []
    },
    "1db3945c8efa4b9b8f973daa0f5e696f": {
     "views": []
    },
    "21d6c4cf77f04b23bed2898c090c23c7": {
     "views": []
    },
    "25ab8002364e4197b88298a7c2d7e067": {
     "views": []
    },
    "27af53f0fa1449a98859793bdd9deac5": {
     "views": []
    },
    "2836ebfa7b894051b8abef2a56113482": {
     "views": []
    },
    "2b87940a77894337940a1dbb59b56312": {
     "views": []
    },
    "2e99dd6e690b41afaaefa86b429beb36": {
     "views": []
    },
    "2ec3361470fc4f8297df35602db27058": {
     "views": []
    },
    "31928fd731a34f119b422a05a80941f7": {
     "views": []
    },
    "325bfa30de084f5faa5fc7d7d2bab3df": {
     "views": []
    },
    "3475e621cccb482c98d9d7b7e9c24703": {
     "views": []
    },
    "3544667e8a68417eb96f80df27422df1": {
     "views": []
    },
    "36d0711503504c8da3cffee645d31f8c": {
     "views": []
    },
    "3830f01717714b9ca9963495718b287a": {
     "views": []
    },
    "3a7d28e4b1e546378002c09694a69a97": {
     "views": []
    },
    "3d3a48044ce94ab780447f0cb55048d5": {
     "views": []
    },
    "3d73dd072e41459c93d90d807a20d726": {
     "views": []
    },
    "3d9c25ac60134310a3a241b541947e40": {
     "views": []
    },
    "400e3f213fc344cba29fcc8ea6286ab1": {
     "views": []
    },
    "41ce2fb662fb44fbb566d81d2e36b1ee": {
     "views": []
    },
    "495ef6c85af746c0a937d3578232dc9a": {
     "views": []
    },
    "49be34228f924824b942ee9cff9ac9f5": {
     "views": []
    },
    "4b05c6ba26494199b3f0faf69fab6fcb": {
     "views": []
    },
    "4de0cedb7df149308bdb9b38b1699ef5": {
     "views": []
    },
    "5253f43aefb248e5abe20abff492fe0d": {
     "views": []
    },
    "546cb79c21524fc49a264d3bc0dcfd51": {
     "views": []
    },
    "5b1da544b0a14ed7bcc526e2a19ea10a": {
     "views": []
    },
    "5db14452f9964031824e5b9686620dd5": {
     "views": [
      {
       "cell_index": 42
      }
     ]
    },
    "5e9ff09da8f94a0f8080a756d5f4b1f8": {
     "views": []
    },
    "66f2ec3b92eb4cd0a413352a52d6dbf1": {
     "views": []
    },
    "67ca7c003b954f13a398aada065f2ddc": {
     "views": []
    },
    "69a44c6a49d74a748130861e6c952d2d": {
     "views": []
    },
    "6c3d292c515d4630aa57b53cc2ec3122": {
     "views": []
    },
    "6d92566f1c424129bdbfd396687e2430": {
     "views": []
    },
    "705ba0495ce44baa89e33e0f4c078798": {
     "views": []
    },
    "705ea5cd84194a789989b39bc6b17073": {
     "views": []
    },
    "735d24b73cdd4ca7ba04829ad8604a0b": {
     "views": []
    },
    "73a058effc5b473da50cc3b425aa6a53": {
     "views": []
    },
    "740a06c99856422b98901299946eaa5b": {
     "views": []
    },
    "7435fdaad93146b8a12a7224477d70db": {
     "views": []
    },
    "749bdc9d2e084fd38c745486100ddcb8": {
     "views": []
    },
    "75075a238ffd4c869af35b3d3fdb9cb8": {
     "views": []
    },
    "752617fdba4043b6bdfafa2e66446f0d": {
     "views": []
    },
    "7621c2846d8e4cb082179d9406100876": {
     "views": []
    },
    "77249e6632c9408191266d86d68a2f2c": {
     "views": [
      {
       "cell_index": 40
      }
     ]
    },
    "773efa593dd145a783700ef2e8df770b": {
     "views": []
    },
    "7bd47c5bfe40480395f414bd767ab03d": {
     "views": []
    },
    "7d1e3b6e7ec04b718af42293db37efb1": {
     "views": []
    },
    "7dc1bbe2308b4cff94cabacc4e2644a1": {
     "views": []
    },
    "7f6b2ccb85f64d868cca33c62420a263": {
     "views": []
    },
    "7fa2fca189e64d41a991290c562c5ab2": {
     "views": []
    },
    "7fbfab94234040149a439fbdcedede82": {
     "views": []
    },
    "84b3ab7436fe4a73aeddab50a87070a1": {
     "views": []
    },
    "858fa16d64d14ee392b60fed9def085c": {
     "views": []
    },
    "87178cc25efe41fda62e0a2d778ab604": {
     "views": []
    },
    "877fc22c4b424205a085580f8510879d": {
     "views": []
    },
    "8987e3459401400296ce4f9d9d1c6c33": {
     "views": []
    },
    "8d096f4d28a0478b93339eba2c746fab": {
     "views": []
    },
    "9066e11d1ec441bcb851fbb3f2335e6f": {
     "views": []
    },
    "91b43dc032e644b7bfe68784ba86111d": {
     "views": []
    },
    "932a85d85e2d44db9bda9857c72fb3a8": {
     "views": []
    },
    "97906e8993434bbfa75796fded93c7b9": {
     "views": []
    },
    "9a838db2fe0b4ec4a940deafed1a8b2f": {
     "views": []
    },
    "9ad6f9ebc5124e76abba7a8a4fdcf1ab": {
     "views": []
    },
    "9dab4159eca64cf28232966acd49c131": {
     "views": []
    },
    "9f6f3c46be024c3381c61855f0b854ff": {
     "views": []
    },
    "9f70e35c769740abb6c1ab7b43469c44": {
     "views": []
    },
    "a255589bec28418d8788256915e9d540": {
     "views": []
    },
    "a27a17a388624722a79df95ba7fd3ca2": {
     "views": []
    },
    "a68ed272481f43458a5493ff8ac1bd0c": {
     "views": []
    },
    "aca76769301a442684e57906d95ab6e9": {
     "views": []
    },
    "acda288271c14929bbdbc921d91e4f06": {
     "views": []
    },
    "aec3bc229e524f168a970237a957b7ef": {
     "views": []
    },
    "b11fc27641f4444cb0242c85457785df": {
     "views": []
    },
    "b1ab6e57e10c4f64a5d33f40a86215ee": {
     "views": []
    },
    "b229a5f5ab4f41c28fc76dc2428680ab": {
     "views": []
    },
    "b38e7733550e4562a017e81680285467": {
     "views": []
    },
    "b9ee92d8a97e4199be738c6935c82b30": {
     "views": []
    },
    "bd43e3fbdb1b45e1bb2b3a87f9a6a2a5": {
     "views": []
    },
    "bd46dd0913eb4c009af52a6e4f42facc": {
     "views": []
    },
    "c3452719a9af487eafe5ab372c546e23": {
     "views": []
    },
    "c38f33837f7240b8aee0dbebb1328b64": {
     "views": []
    },
    "c598a06776734216836395cae355f595": {
     "views": []
    },
    "c8ed9c6dedeb4b76bcbb6807cdd75c9a": {
     "views": []
    },
    "ca3c8311bf42479bbb200f4ec5c74b92": {
     "views": []
    },
    "cafe7941400f4328a29f3c02227180c2": {
     "views": []
    },
    "cd2b3730d4e04b18b97ee6a8ca66756b": {
     "views": []
    },
    "ce6291a9318741629b654445d6045112": {
     "views": []
    },
    "d1e0a87357ac4fb8a0163c88bf787522": {
     "views": []
    },
    "d28f6c10065b43889680575b5111144e": {
     "views": []
    },
    "d5bbbf7ed7514d72bcf56a0a01fec0a8": {
     "views": []
    },
    "d82ebeafaa4045fbaf31bc006149341c": {
     "views": []
    },
    "da5014729964470793c8f28ceeb16729": {
     "views": []
    },
    "dad2a314db4d4389b42f9e4c72da7a6d": {
     "views": []
    },
    "e1982da7171548f98920741a521684c6": {
     "views": []
    },
    "e3c78bb54113480daf5695cbb341d36e": {
     "views": []
    },
    "e4a181b175694df69b3b5ae5b09b8787": {
     "views": []
    },
    "e6446c70e646473b977f4121e30c79c8": {
     "views": []
    },
    "ea50522f0ec44e318746347b1c7df779": {
     "views": []
    },
    "ee3be48766de4b0fbeead684168898f7": {
     "views": []
    },
    "ef716d0b7e0f4df28e8b5811bc581573": {
     "views": []
    },
    "f09940beb1f14cdf93724383ed71183c": {
     "views": []
    },
    "f5460fc3efac44aa864dc1a96477b3ef": {
     "views": []
    },
    "f6c76f9bf2f5473987d9ba5334781c86": {
     "views": []
    },
    "fa64242ae974460790efb0cd9f0d0014": {
     "views": []
    },
    "fa9f374289a140ada5997c6a9433c37a": {
     "views": []
    },
    "fac12c3719d344afa17c35fa4bdc9ccd": {
     "views": []
    }
   },
   "version": "1.1.2"
  }
 },
 "nbformat": 4,
 "nbformat_minor": 1
}